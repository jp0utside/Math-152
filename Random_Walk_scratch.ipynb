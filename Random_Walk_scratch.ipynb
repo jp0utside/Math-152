{
  "nbformat": 4,
  "nbformat_minor": 0,
  "metadata": {
    "colab": {
      "provenance": [],
      "authorship_tag": "ABX9TyPvlNHeAT/lS8mjjuXAn1m+",
      "include_colab_link": true
    },
    "kernelspec": {
      "name": "python3",
      "display_name": "Python 3"
    },
    "language_info": {
      "name": "python"
    }
  },
  "cells": [
    {
      "cell_type": "markdown",
      "metadata": {
        "id": "view-in-github",
        "colab_type": "text"
      },
      "source": [
        "<a href=\"https://colab.research.google.com/github/jp0utside/Math-152/blob/main/Random_Walk_scratch.ipynb\" target=\"_parent\"><img src=\"https://colab.research.google.com/assets/colab-badge.svg\" alt=\"Open In Colab\"/></a>"
      ]
    },
    {
      "cell_type": "code",
      "source": [
        "import numpy as np\n",
        "from PIL import Image\n",
        "import matplotlib.pyplot as plt"
      ],
      "metadata": {
        "id": "NskzKkgqUt5p"
      },
      "execution_count": 37,
      "outputs": []
    },
    {
      "cell_type": "code",
      "execution_count": 63,
      "metadata": {
        "id": "1LmAnrUAUfu-"
      },
      "outputs": [],
      "source": [
        "def circle_walk(n = 360, t = 100):\n",
        "  rads = np.linspace(0, 2*np.pi, n)\n",
        "  walks = np.zeros((2, n, t))\n",
        "  walks[:, :, 0] = (np.cos(rads), np.sin(rads))\n",
        "  rad_step = 1/n\n",
        "  deg_step = (2*np.pi)/n\n",
        "  for i in range(1, t):\n",
        "    for j in range(n):\n",
        "      sign = np.random.choice([-1, 1])\n",
        "      dim = np.random.choice([rad_step, deg_step])\n",
        "      walks[0,j,i] = walks[0,j,i-1] + sign*(np.cos(dim))\n",
        "      walks[1,j,i] = walks[1,j,i-1] + sign*(np.sin(dim))\n",
        "  return walks\n",
        "  #walks = np.vstack((np.cos(rads), np.sin(rads))).T\n",
        "  #walks.reshape()\n",
        "    \n",
        "walks = circle_walk()"
      ]
    },
    {
      "cell_type": "code",
      "source": [],
      "metadata": {
        "id": "zo3Yqr8OVlVv"
      },
      "execution_count": null,
      "outputs": []
    }
  ]
}