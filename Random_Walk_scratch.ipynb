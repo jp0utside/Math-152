{
  "nbformat": 4,
  "nbformat_minor": 0,
  "metadata": {
    "colab": {
      "provenance": [],
      "authorship_tag": "ABX9TyNQ90hg+3vbQIYJSNXp/8MI",
      "include_colab_link": true
    },
    "kernelspec": {
      "name": "python3",
      "display_name": "Python 3"
    },
    "language_info": {
      "name": "python"
    }
  },
  "cells": [
    {
      "cell_type": "markdown",
      "metadata": {
        "id": "view-in-github",
        "colab_type": "text"
      },
      "source": [
        "<a href=\"https://colab.research.google.com/github/jp0utside/Math-152/blob/main/Random_Walk_scratch.ipynb\" target=\"_parent\"><img src=\"https://colab.research.google.com/assets/colab-badge.svg\" alt=\"Open In Colab\"/></a>"
      ]
    },
    {
      "cell_type": "markdown",
      "source": [
        "#Ideas\n",
        "\n",
        "\n",
        "*   Have random walks using circular coordinates, lines can either go along the circumference of the circle or travel inward toward the radius (matplotlib)\n",
        "*   Have program start in upper left and create rule for how x and y are determined (probably generating a 6 coefficents for x and y, and then creating equations for how the image will change as the coordinates do)\n",
        "\n",
        "\n"
      ],
      "metadata": {
        "id": "ApN_3KoIfV5m"
      }
    },
    {
      "cell_type": "code",
      "source": [
        "import numpy as np\n",
        "from PIL import Image\n",
        "import matplotlib.pyplot as plt"
      ],
      "metadata": {
        "id": "NskzKkgqUt5p"
      },
      "execution_count": null,
      "outputs": []
    },
    {
      "cell_type": "code",
      "execution_count": null,
      "metadata": {
        "id": "1LmAnrUAUfu-"
      },
      "outputs": [],
      "source": [
        "def circle_walk(n = 360, t = 100):\n",
        "  rads = np.linspace(0, 2*np.pi, n)\n",
        "  walks = np.zeros((2, n, t))\n",
        "  walks[:, :, 0] = (np.cos(rads), np.sin(rads))\n",
        "  rad_step = 1/n\n",
        "  deg_step = (2*np.pi)/n\n",
        "  for i in range(1, t):\n",
        "    for j in range(n):\n",
        "      sign = np.random.choice([-1, 1])\n",
        "      dim = np.random.choice([rad_step, deg_step])\n",
        "      walks[0,j,i] = walks[0,j,i-1] + sign*(np.cos(dim))\n",
        "      walks[1,j,i] = walks[1,j,i-1] + sign*(np.sin(dim))\n",
        "  return walks\n",
        "  #walks = np.vstack((np.cos(rads), np.sin(rads))).T\n",
        "  #walks.reshape()\n",
        "    \n",
        "walks = circle_walk()"
      ]
    },
    {
      "cell_type": "code",
      "source": [
        "plt.figure(figsize=(6,6))\n",
        "#plt.scatter(walks[0,:,3], walks[1,:,3], s = 6)\n",
        "for i in range(1):\n",
        "  plt.plot(walks[0,i,:], walks[1,i,:], alpha = 0.5)\n",
        "plt.show()\n",
        "print(walks[:,0,:3])"
      ],
      "metadata": {
        "colab": {
          "base_uri": "https://localhost:8080/",
          "height": 410
        },
        "id": "zo3Yqr8OVlVv",
        "outputId": "743327df-4fb2-485d-e7ff-0957e3254ae2"
      },
      "execution_count": null,
      "outputs": [
        {
          "output_type": "display_data",
          "data": {
            "text/plain": [
              "<Figure size 432x432 with 1 Axes>"
            ],
            "image/png": "[encoded data removed]"
          },
          "metadata": {
            "needs_background": "light"
          }
        },
        {
          "output_type": "stream",
          "name": "stdout",
          "text": [
            "[[ 1.00000000e+00  3.85802221e-06  1.00000000e+00]\n",
            " [ 0.00000000e+00 -2.77777421e-03  0.00000000e+00]]\n"
          ]
        }
      ]
    },
    {
      "cell_type": "code",
      "source": [],
      "metadata": {
        "id": "lpIEoIJWgyun"
      },
      "execution_count": null,
      "outputs": []
    }
  ]
}